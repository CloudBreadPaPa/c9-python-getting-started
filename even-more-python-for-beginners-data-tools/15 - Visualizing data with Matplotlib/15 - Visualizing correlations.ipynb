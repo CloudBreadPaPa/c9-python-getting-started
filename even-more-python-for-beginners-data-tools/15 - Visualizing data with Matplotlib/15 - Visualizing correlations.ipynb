{
 "cells": [
  {
   "cell_type": "markdown",
   "metadata": {},
   "source": [
    "# Matplotlib으로 데이터 시각화"
   ]
  },
  {
   "cell_type": "markdown",
   "metadata": {},
   "source": [
    "\n",
    "많은 경우, 그래프는 데이터를 시각화하는 최선의 방법입니다.\n",
    "\n",
    "**matplotlib** 라이브러리를 사용하면 데이터를 시각화하는 그래프를 쉽게 그릴 수 있습니다.\n",
    "\n",
    "데이터를 시각화하려면 데이터를 DataFrame에 로드해야 합니다.\n"
   ]
  },
  {
   "cell_type": "code",
   "execution_count": 6,
   "metadata": {},
   "outputs": [],
   "source": [
    "import pandas as pd"
   ]
  },
  {
   "cell_type": "code",
   "execution_count": 7,
   "metadata": {},
   "outputs": [],
   "source": [
    "# Load our data from the csv file\n",
    "delays_df = pd.read_csv('Lots_of_flight_data.csv') "
   ]
  },
  {
   "cell_type": "markdown",
   "metadata": {},
   "source": [
    "plot을 디스플레이하려면 **matplotlib** 라이브러리를 import 해야 합니다."
   ]
  },
  {
   "cell_type": "code",
   "execution_count": 8,
   "metadata": {},
   "outputs": [],
   "source": [
    "import matplotlib.pyplot as plt"
   ]
  },
  {
   "cell_type": "markdown",
   "metadata": {},
   "source": [
    "A common plot used in data science is the scatter plot for checking the relationship between two columns\n",
    "If you see dots scattered everywhere,  there is no correlation between the two columns\n",
    "If you see somethign resembling a line, there is a correlation between the two columns\n",
    "\n",
    "You can use the plot method of the DataFrame to draw the scatter plot\n",
    "* kind - the type of graph to draw\n",
    "* x - value to plot as x\n",
    "* y - value to plot as y\n",
    "* color - color to use for the graph points\n",
    "* alpha - opacity - useful to show density of points in a scatter plot\n",
    "* title - title of the graph\n",
    "\n",
    "Data science에서 사용되는 일반적인 plot은 두 column들 사이의 관계를 확인할 때 사용하는 산포도(scatter plot)입니다.\n",
    "만약, 점(point)들이 사방에 흩어져있는 경우, 두 column들은 상관 관계(correlation)가 적은 것이고, 선과 유사한 패턴이 보이면 상관 관계가 있는 것입니다.\n",
    "\n",
    "DataFrame의 plot 메서드를 사용하여 scatter plot을 그릴 수 있습니다.\n",
    "* kind - 그리려 하는 그래프의 타입\n",
    "* x - x로 표시 할 값\n",
    "* y - y로 표시 할 값\n",
    "* color - 그래프 점(point)에 사용할 색상\n",
    "* alpha - 투명도 - 산점도에서 점의 밀도(density)를 표시하는 데 유용합니다.\n",
    "* title - 그래프의 제목\n"
   ]
  },
  {
   "cell_type": "code",
   "execution_count": null,
   "metadata": {
    "scrolled": true
   },
   "outputs": [],
   "source": [
    "# 비행 거리(DISTANCE)와 비행기 도착 딜레이 시간(ARR_DELAY) feature 사이에 상관관계가 있는지 체크\n",
    "delays_df.plot(\n",
    "               kind='scatter',\n",
    "               x='DISTANCE',\n",
    "               y='ARR_DELAY',\n",
    "               color='blue',\n",
    "               alpha=0.3,\n",
    "               title='Correlation of arrival and distance'\n",
    "              )\n",
    "plt.show()"
   ]
  },
  {
   "cell_type": "code",
   "execution_count": null,
   "metadata": {},
   "outputs": [],
   "source": [
    "# 항공편 출발 시간(DEP_DELAY)과 도착 딜레이 시간(ARR_DELAY) 사이에 상관관계가 있는지 체크\n",
    "delays_df.plot(\n",
    "               kind='scatter',\n",
    "               x='DEP_DELAY',\n",
    "               y='ARR_DELAY',\n",
    "               color='blue',\n",
    "               alpha=0.3,\n",
    "               title='Correlation of arrival and departure delay'\n",
    "              )\n",
    "plt.show()"
   ]
  },
  {
   "cell_type": "markdown",
   "metadata": {},
   "source": [
    "scatter plot을 통해 거리와 도착 지연 시간 사이에는 상관관계가 없지만 출발 지연 시간과 도착 지연 시간 사이에는 상관 관계가 높다는 것을 확인할 수 있습니다."
   ]
  },
  {
   "cell_type": "code",
   "execution_count": null,
   "metadata": {},
   "outputs": [],
   "source": []
  }
 ],
 "metadata": {
  "kernelspec": {
   "display_name": "Python 3",
   "language": "python",
   "name": "python3"
  },
  "language_info": {
   "codemirror_mode": {
    "name": "ipython",
    "version": 3
   },
   "file_extension": ".py",
   "mimetype": "text/x-python",
   "name": "python",
   "nbconvert_exporter": "python",
   "pygments_lexer": "ipython3",
   "version": "3.7.3-final"
  }
 },
 "nbformat": 4,
 "nbformat_minor": 2
}